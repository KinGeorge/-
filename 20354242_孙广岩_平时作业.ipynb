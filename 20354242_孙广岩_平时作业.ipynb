{
 "cells": [
  {
   "cell_type": "markdown",
   "id": "f38758e7-5b08-4924-9f01-e40c65e1d1bc",
   "metadata": {},
   "source": [
    "# 平时作业-航班预测"
   ]
  },
  {
   "cell_type": "markdown",
   "id": "f06d19e7-7b17-4c4e-b35b-1586c062013f",
   "metadata": {},
   "source": [
    "## 20354242 孙广岩\n",
    "更完整的代码可以访问我的Github仓库，其中也包括了使用Transformer来进行预测，这里就不赘述了。"
   ]
  },
  {
   "cell_type": "markdown",
   "id": "472a4346-2ce3-41d9-b309-e9a44ba1bcf7",
   "metadata": {},
   "source": [
    "## 代码部分"
   ]
  },
  {
   "cell_type": "markdown",
   "id": "bbabc394-2845-4436-995e-28f4b4617b9f",
   "metadata": {},
   "source": [
    "首先为了简单评估模型的性能，我首先使用前120个数据来作为训练集，之后的作为测试集来进行测试。\n",
    "\n",
    "同时测试分为两种，一种为完全由模型的预测来继续预测，另一种为每次给出真实值来进行预测。"
   ]
  },
  {
   "cell_type": "markdown",
   "id": "810dc52e-6c3f-4f4c-a4c5-9c0225fe8d51",
   "metadata": {},
   "source": [
    "### 数据处理"
   ]
  },
  {
   "cell_type": "code",
   "execution_count": null,
   "id": "8cf7151a-815b-44ef-a23a-4ed65e45c552",
   "metadata": {},
   "outputs": [],
   "source": [
    "import pandas as pd\n",
    "import numpy as np\n",
    "\n",
    "file = pd.read_csv('data.csv', header=None)\n",
    "\n",
    "data = np.array(file[1]) # 提取143条数据\n",
    "\n",
    "train = [] # 训练集\n",
    "test = []  # 测试集\n",
    "\n",
    "for i in range(120): # 通过滑动窗口来构建数据集\n",
    "    train.append(data[i:i+2])\n",
    "    test.append(data[i+2])"
   ]
  },
  {
   "cell_type": "markdown",
   "id": "cdd87cb3-84c6-4898-9292-f5b810d5b741",
   "metadata": {},
   "source": [
    "### 网络搭建"
   ]
  },
  {
   "cell_type": "markdown",
   "id": "74525221-6105-4e0f-be1e-ad652eaf5358",
   "metadata": {},
   "source": [
    "### 训练"
   ]
  },
  {
   "cell_type": "markdown",
   "id": "5b2791c4-3cb1-4e4e-b6e9-f07350d33d9a",
   "metadata": {},
   "source": [
    "### 测试(模型)"
   ]
  },
  {
   "cell_type": "markdown",
   "id": "92ac1a63-c31f-4297-9530-9b7ccddf1636",
   "metadata": {},
   "source": [
    "### 测试(真实)"
   ]
  },
  {
   "cell_type": "markdown",
   "id": "adf2001e-8630-4fba-bc1d-beb420ffdafb",
   "metadata": {},
   "source": [
    "简单的来分析一下结果"
   ]
  },
  {
   "cell_type": "markdown",
   "id": "ab7db51e-af44-4325-9ec1-acdf4afef665",
   "metadata": {},
   "source": [
    "### 对全部数据集及进行训练"
   ]
  },
  {
   "cell_type": "markdown",
   "id": "5c111bcc-64dc-4142-aea2-7ff8cc18b414",
   "metadata": {},
   "source": [
    "之后测试模型："
   ]
  },
  {
   "cell_type": "markdown",
   "id": "8481c361-5a0f-4d61-9f7a-dbdef73d6558",
   "metadata": {},
   "source": [
    "## 实验结果"
   ]
  },
  {
   "cell_type": "markdown",
   "id": "f7894025-bea3-431e-8b24-63d059eca94e",
   "metadata": {},
   "source": [
    "实验超参数设置："
   ]
  },
  {
   "cell_type": "markdown",
   "id": "9c47b932-c21e-48b8-b5d6-afbaa811c5e2",
   "metadata": {},
   "source": [
    "模型结果：\n",
    "\n",
    "|  模型   | 144月预测结果  |\n",
    "|  :----:  | :----:  |\n",
    "| 单层GRU  |  |\n",
    "| 单层LSTM  |  |\n",
    "| 多层LSTM  |  |\n",
    "| 双向LSTM  |  |\n",
    "| 多层双向LSTM  |  |"
   ]
  }
 ],
 "metadata": {
  "kernelspec": {
   "display_name": "Python 3 (ipykernel)",
   "language": "python",
   "name": "python3"
  },
  "language_info": {
   "codemirror_mode": {
    "name": "ipython",
    "version": 3
   },
   "file_extension": ".py",
   "mimetype": "text/x-python",
   "name": "python",
   "nbconvert_exporter": "python",
   "pygments_lexer": "ipython3",
   "version": "3.7.5"
  }
 },
 "nbformat": 4,
 "nbformat_minor": 5
}
